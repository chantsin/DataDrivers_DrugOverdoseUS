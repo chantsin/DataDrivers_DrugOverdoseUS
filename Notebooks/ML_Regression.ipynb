{
 "cells": [
  {
   "cell_type": "markdown",
   "id": "760b2301-c8ad-4ee5-b907-d9bed44c9345",
   "metadata": {},
   "source": [
    "# DubTech Datathon: Drug Overdose in USA\n",
    "\n",
    "**Authors: Clement, Calvin, Tilova**\n",
    "\n",
    "---\n",
    "\n",
    "ADD DESC\n",
    "\n",
    "## Introduction  \n",
    "\n",
    "Dataset link : [CDC](https://data.cdc.gov/NCHS/Drug-overdose-death-rates-by-drug-type-sex-age-rac/95ax-ymtc/about_data)"
   ]
  },
  {
   "cell_type": "markdown",
   "id": "d95895af-7ca4-4c82-9d58-8a1f3618840d",
   "metadata": {},
   "source": [
    "**Importing Libraries**"
   ]
  },
  {
   "cell_type": "code",
   "execution_count": 12,
   "id": "b25b3d9e-28f4-4209-8eed-d4e43010ebac",
   "metadata": {
    "tags": []
   },
   "outputs": [],
   "source": [
    "import numpy as np\n",
    "import pandas as pd\n",
    "\n",
    "# data vis\n",
    "import matplotlib.pyplot as plt\n",
    "import seaborn as sns\n",
    "\n",
    "# ML Libraries\n",
    "from sklearn.model_selection import train_test_split\n",
    "from sklearn.preprocessing import StandardScaler\n",
    "from sklearn.linear_model import LinearRegression\n",
    "\n",
    "# Model metrics\n",
    "from sklearn.metrics import mean_absolute_error"
   ]
  },
  {
   "cell_type": "code",
   "execution_count": 2,
   "id": "c8156f7c-a173-4b78-ade2-f671c1c0fcb0",
   "metadata": {
    "tags": []
   },
   "outputs": [
    {
     "data": {
      "text/html": [
       "<div>\n",
       "<style scoped>\n",
       "    .dataframe tbody tr th:only-of-type {\n",
       "        vertical-align: middle;\n",
       "    }\n",
       "\n",
       "    .dataframe tbody tr th {\n",
       "        vertical-align: top;\n",
       "    }\n",
       "\n",
       "    .dataframe thead th {\n",
       "        text-align: right;\n",
       "    }\n",
       "</style>\n",
       "<table border=\"1\" class=\"dataframe\">\n",
       "  <thead>\n",
       "    <tr style=\"text-align: right;\">\n",
       "      <th></th>\n",
       "      <th>ESTIMATE</th>\n",
       "      <th>STUB_LABEL_15-24 years</th>\n",
       "      <th>STUB_LABEL_25-34 years</th>\n",
       "      <th>STUB_LABEL_35-44 years</th>\n",
       "      <th>STUB_LABEL_45-54 years</th>\n",
       "      <th>STUB_LABEL_55-64 years</th>\n",
       "      <th>STUB_LABEL_65-74 years</th>\n",
       "      <th>STUB_LABEL_75-84 years</th>\n",
       "      <th>STUB_LABEL_85 years and over</th>\n",
       "      <th>STUB_LABEL_All persons</th>\n",
       "      <th>...</th>\n",
       "      <th>STUB_LABEL_Male: Black or African American</th>\n",
       "      <th>STUB_LABEL_Male: Under 15 years</th>\n",
       "      <th>STUB_LABEL_Male: White</th>\n",
       "      <th>STUB_LABEL_Under 15 years</th>\n",
       "      <th>PANEL_All drug overdose deaths</th>\n",
       "      <th>PANEL_Drug overdose deaths involving any opioid</th>\n",
       "      <th>PANEL_Drug overdose deaths involving heroin</th>\n",
       "      <th>PANEL_Drug overdose deaths involving methadone</th>\n",
       "      <th>PANEL_Drug overdose deaths involving natural and semisynthetic opioids</th>\n",
       "      <th>PANEL_Drug overdose deaths involving other synthetic opioids (other than methadone)</th>\n",
       "    </tr>\n",
       "  </thead>\n",
       "  <tbody>\n",
       "    <tr>\n",
       "      <th>0</th>\n",
       "      <td>6.1</td>\n",
       "      <td>0</td>\n",
       "      <td>0</td>\n",
       "      <td>0</td>\n",
       "      <td>0</td>\n",
       "      <td>0</td>\n",
       "      <td>0</td>\n",
       "      <td>0</td>\n",
       "      <td>0</td>\n",
       "      <td>1</td>\n",
       "      <td>...</td>\n",
       "      <td>0</td>\n",
       "      <td>0</td>\n",
       "      <td>0</td>\n",
       "      <td>0</td>\n",
       "      <td>1</td>\n",
       "      <td>0</td>\n",
       "      <td>0</td>\n",
       "      <td>0</td>\n",
       "      <td>0</td>\n",
       "      <td>0</td>\n",
       "    </tr>\n",
       "    <tr>\n",
       "      <th>1</th>\n",
       "      <td>6.2</td>\n",
       "      <td>0</td>\n",
       "      <td>0</td>\n",
       "      <td>0</td>\n",
       "      <td>0</td>\n",
       "      <td>0</td>\n",
       "      <td>0</td>\n",
       "      <td>0</td>\n",
       "      <td>0</td>\n",
       "      <td>1</td>\n",
       "      <td>...</td>\n",
       "      <td>0</td>\n",
       "      <td>0</td>\n",
       "      <td>0</td>\n",
       "      <td>0</td>\n",
       "      <td>1</td>\n",
       "      <td>0</td>\n",
       "      <td>0</td>\n",
       "      <td>0</td>\n",
       "      <td>0</td>\n",
       "      <td>0</td>\n",
       "    </tr>\n",
       "    <tr>\n",
       "      <th>2</th>\n",
       "      <td>6.8</td>\n",
       "      <td>0</td>\n",
       "      <td>0</td>\n",
       "      <td>0</td>\n",
       "      <td>0</td>\n",
       "      <td>0</td>\n",
       "      <td>0</td>\n",
       "      <td>0</td>\n",
       "      <td>0</td>\n",
       "      <td>1</td>\n",
       "      <td>...</td>\n",
       "      <td>0</td>\n",
       "      <td>0</td>\n",
       "      <td>0</td>\n",
       "      <td>0</td>\n",
       "      <td>1</td>\n",
       "      <td>0</td>\n",
       "      <td>0</td>\n",
       "      <td>0</td>\n",
       "      <td>0</td>\n",
       "      <td>0</td>\n",
       "    </tr>\n",
       "    <tr>\n",
       "      <th>3</th>\n",
       "      <td>8.2</td>\n",
       "      <td>0</td>\n",
       "      <td>0</td>\n",
       "      <td>0</td>\n",
       "      <td>0</td>\n",
       "      <td>0</td>\n",
       "      <td>0</td>\n",
       "      <td>0</td>\n",
       "      <td>0</td>\n",
       "      <td>1</td>\n",
       "      <td>...</td>\n",
       "      <td>0</td>\n",
       "      <td>0</td>\n",
       "      <td>0</td>\n",
       "      <td>0</td>\n",
       "      <td>1</td>\n",
       "      <td>0</td>\n",
       "      <td>0</td>\n",
       "      <td>0</td>\n",
       "      <td>0</td>\n",
       "      <td>0</td>\n",
       "    </tr>\n",
       "    <tr>\n",
       "      <th>4</th>\n",
       "      <td>8.9</td>\n",
       "      <td>0</td>\n",
       "      <td>0</td>\n",
       "      <td>0</td>\n",
       "      <td>0</td>\n",
       "      <td>0</td>\n",
       "      <td>0</td>\n",
       "      <td>0</td>\n",
       "      <td>0</td>\n",
       "      <td>1</td>\n",
       "      <td>...</td>\n",
       "      <td>0</td>\n",
       "      <td>0</td>\n",
       "      <td>0</td>\n",
       "      <td>0</td>\n",
       "      <td>1</td>\n",
       "      <td>0</td>\n",
       "      <td>0</td>\n",
       "      <td>0</td>\n",
       "      <td>0</td>\n",
       "      <td>0</td>\n",
       "    </tr>\n",
       "  </tbody>\n",
       "</table>\n",
       "<p>5 rows × 47 columns</p>\n",
       "</div>"
      ],
      "text/plain": [
       "   ESTIMATE  STUB_LABEL_15-24 years  STUB_LABEL_25-34 years  \\\n",
       "0       6.1                       0                       0   \n",
       "1       6.2                       0                       0   \n",
       "2       6.8                       0                       0   \n",
       "3       8.2                       0                       0   \n",
       "4       8.9                       0                       0   \n",
       "\n",
       "   STUB_LABEL_35-44 years  STUB_LABEL_45-54 years  STUB_LABEL_55-64 years  \\\n",
       "0                       0                       0                       0   \n",
       "1                       0                       0                       0   \n",
       "2                       0                       0                       0   \n",
       "3                       0                       0                       0   \n",
       "4                       0                       0                       0   \n",
       "\n",
       "   STUB_LABEL_65-74 years  STUB_LABEL_75-84 years  \\\n",
       "0                       0                       0   \n",
       "1                       0                       0   \n",
       "2                       0                       0   \n",
       "3                       0                       0   \n",
       "4                       0                       0   \n",
       "\n",
       "   STUB_LABEL_85 years and over  STUB_LABEL_All persons  ...  \\\n",
       "0                             0                       1  ...   \n",
       "1                             0                       1  ...   \n",
       "2                             0                       1  ...   \n",
       "3                             0                       1  ...   \n",
       "4                             0                       1  ...   \n",
       "\n",
       "   STUB_LABEL_Male: Black or African American  \\\n",
       "0                                           0   \n",
       "1                                           0   \n",
       "2                                           0   \n",
       "3                                           0   \n",
       "4                                           0   \n",
       "\n",
       "   STUB_LABEL_Male: Under 15 years  STUB_LABEL_Male: White  \\\n",
       "0                                0                       0   \n",
       "1                                0                       0   \n",
       "2                                0                       0   \n",
       "3                                0                       0   \n",
       "4                                0                       0   \n",
       "\n",
       "   STUB_LABEL_Under 15 years  PANEL_All drug overdose deaths  \\\n",
       "0                          0                               1   \n",
       "1                          0                               1   \n",
       "2                          0                               1   \n",
       "3                          0                               1   \n",
       "4                          0                               1   \n",
       "\n",
       "   PANEL_Drug overdose deaths involving any opioid  \\\n",
       "0                                                0   \n",
       "1                                                0   \n",
       "2                                                0   \n",
       "3                                                0   \n",
       "4                                                0   \n",
       "\n",
       "   PANEL_Drug overdose deaths involving heroin  \\\n",
       "0                                            0   \n",
       "1                                            0   \n",
       "2                                            0   \n",
       "3                                            0   \n",
       "4                                            0   \n",
       "\n",
       "   PANEL_Drug overdose deaths involving methadone  \\\n",
       "0                                               0   \n",
       "1                                               0   \n",
       "2                                               0   \n",
       "3                                               0   \n",
       "4                                               0   \n",
       "\n",
       "   PANEL_Drug overdose deaths involving natural and semisynthetic opioids  \\\n",
       "0                                                  0                        \n",
       "1                                                  0                        \n",
       "2                                                  0                        \n",
       "3                                                  0                        \n",
       "4                                                  0                        \n",
       "\n",
       "   PANEL_Drug overdose deaths involving other synthetic opioids (other than methadone)  \n",
       "0                                                  0                                    \n",
       "1                                                  0                                    \n",
       "2                                                  0                                    \n",
       "3                                                  0                                    \n",
       "4                                                  0                                    \n",
       "\n",
       "[5 rows x 47 columns]"
      ]
     },
     "execution_count": 2,
     "metadata": {},
     "output_type": "execute_result"
    }
   ],
   "source": [
    "df = pd.read_csv('../data/encoded_drug_overdose_data.csv')\n",
    "df.head()"
   ]
  },
  {
   "cell_type": "code",
   "execution_count": 6,
   "id": "9cd9d3d1-b8f0-40b7-8dbe-d61dadfcbebe",
   "metadata": {
    "tags": []
   },
   "outputs": [
    {
     "name": "stdout",
     "output_type": "stream",
     "text": [
      "(5117, 46) (5117, 1)\n"
     ]
    }
   ],
   "source": [
    "# Slice out dependent and independant variables\n",
    "y = df.iloc[:, :1]\n",
    "X = df.iloc[:, 1:]\n",
    "print(X.shape, y.shape)"
   ]
  },
  {
   "cell_type": "code",
   "execution_count": 7,
   "id": "02dcb6d1-a923-451f-8800-8c2f49519ba4",
   "metadata": {
    "tags": []
   },
   "outputs": [
    {
     "data": {
      "text/plain": [
       "((3837, 46), (3837, 1))"
      ]
     },
     "execution_count": 7,
     "metadata": {},
     "output_type": "execute_result"
    }
   ],
   "source": [
    "X_train, X_test, y_train, y_test = train_test_split(X, y, test_size = 0.25)\n",
    "\n",
    "# sanity check\n",
    "X_train.shape, y_train.shape"
   ]
  },
  {
   "cell_type": "markdown",
   "id": "6955dc2a-a297-4e54-bb80-eec21c9b7f84",
   "metadata": {},
   "source": [
    "Since we are starting with a linear model, we should try and scale the data!"
   ]
  },
  {
   "cell_type": "code",
   "execution_count": 10,
   "id": "e7d585c5-9176-451f-9bb0-96970c68fa3c",
   "metadata": {
    "tags": []
   },
   "outputs": [],
   "source": [
    "# Instantiate Standard Scaler\n",
    "ss = StandardScaler()\n",
    "\n",
    "# Fit & Transform data\n",
    "X_train_ss = ss.fit_transform(X_train)\n",
    "X_test_ss = ss.transform(X_test)"
   ]
  },
  {
   "cell_type": "code",
   "execution_count": 11,
   "id": "85b863ad-5f86-480b-828e-240ac7e6c202",
   "metadata": {
    "tags": []
   },
   "outputs": [
    {
     "name": "stdout",
     "output_type": "stream",
     "text": [
      "Train R2: 0.5784386602365614\n",
      "Test R2: 0.5515454084656569\n"
     ]
    }
   ],
   "source": [
    "# Instantiate linear regression\n",
    "lin_reg = LinearRegression()\n",
    "\n",
    "# fit\n",
    "lin_reg.fit(X_train_ss, y_train)\n",
    "\n",
    "# Get r2 values\n",
    "print(f'Train R2: {lin_reg.score(X_train_ss, y_train)}')\n",
    "print(f'Test R2: {lin_reg.score(X_test_ss, y_test)}')"
   ]
  },
  {
   "cell_type": "code",
   "execution_count": 13,
   "id": "dae54967-7fa1-4892-8024-b1611cbfe22d",
   "metadata": {
    "tags": []
   },
   "outputs": [
    {
     "data": {
      "text/plain": [
       "2.855912744660834"
      ]
     },
     "execution_count": 13,
     "metadata": {},
     "output_type": "execute_result"
    }
   ],
   "source": [
    "y_pred = lin_reg.predict(X_test_ss)\n",
    "\n",
    "mean_absolute_error(y_test, y_pred)"
   ]
  }
 ],
 "metadata": {
  "kernelspec": {
   "display_name": "Python 3 (ipykernel)",
   "language": "python",
   "name": "python3"
  },
  "language_info": {
   "codemirror_mode": {
    "name": "ipython",
    "version": 3
   },
   "file_extension": ".py",
   "mimetype": "text/x-python",
   "name": "python",
   "nbconvert_exporter": "python",
   "pygments_lexer": "ipython3",
   "version": "3.11.5"
  }
 },
 "nbformat": 4,
 "nbformat_minor": 5
}
