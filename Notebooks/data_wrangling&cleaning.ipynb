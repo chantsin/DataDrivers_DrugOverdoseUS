{
 "cells": [
  {
   "cell_type": "markdown",
   "id": "4c75b414-1c2b-4e3f-adf0-1b4ebf10b9b5",
   "metadata": {},
   "source": [
    "# DubTech Datathon: Drug Overdose in USA\n",
    "\n",
    "**Authors: Clement, Calvin, Tilova**\n",
    "\n",
    "---\n",
    "\n",
    "ADD DESC\n",
    "\n",
    "## Introduction  \n",
    "\n",
    "In this notebook we will be going over preliminary exploratory data analysis (EDA) of our MNIST dataset as well as a baseline model to get a sense of model accuracies. We will also use our baseline model to generate a prediction of the test set to submit on Kaggle "
   ]
  },
  {
   "cell_type": "markdown",
   "id": "4a7dadde-9606-46dd-baaf-10e7014f3c2f",
   "metadata": {},
   "source": [
    "<a id = 'toc'></a>\n",
    "    \n",
    "## Table of Contents\n",
    "---\n",
    "1. [Data Wrangling](#wrangle)\n"
   ]
  },
  {
   "cell_type": "markdown",
   "id": "736a3ae9-2567-4cf8-9bee-129dfefba5b2",
   "metadata": {},
   "source": [
    "**Importing Libraries**"
   ]
  },
  {
   "cell_type": "code",
   "execution_count": null,
   "id": "35a3076a-af04-4a9d-83fa-04cd24f2a8f0",
   "metadata": {},
   "outputs": [],
   "source": []
  }
 ],
 "metadata": {
  "kernelspec": {
   "display_name": "Python 3 (ipykernel)",
   "language": "python",
   "name": "python3"
  },
  "language_info": {
   "codemirror_mode": {
    "name": "ipython",
    "version": 3
   },
   "file_extension": ".py",
   "mimetype": "text/x-python",
   "name": "python",
   "nbconvert_exporter": "python",
   "pygments_lexer": "ipython3",
   "version": "3.11.5"
  }
 },
 "nbformat": 4,
 "nbformat_minor": 5
}
